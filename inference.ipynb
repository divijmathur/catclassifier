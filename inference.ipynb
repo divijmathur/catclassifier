{
 "cells": [
  {
   "cell_type": "code",
   "execution_count": 5,
   "id": "57fad81f-1704-4d2a-a982-ae059f20b75f",
   "metadata": {},
   "outputs": [],
   "source": [
    "!pip install -Uqq fastbook\n",
    "from pathlib import Path\n",
    "from fastai.vision.all import * "
   ]
  },
  {
   "cell_type": "code",
   "execution_count": 6,
   "id": "1d29da84-461c-4f78-8a79-aa0a41757d2b",
   "metadata": {},
   "outputs": [
    {
     "data": {
      "text/plain": [
       "(#4) [Path('export.pkl'),Path('xs_final.pkl'),Path('valid_xs_final.pkl'),Path('to.pkl')]"
      ]
     },
     "execution_count": 6,
     "metadata": {},
     "output_type": "execute_result"
    }
   ],
   "source": [
    "path = Path()\n",
    "path.ls(file_exts='.pkl')"
   ]
  },
  {
   "cell_type": "code",
   "execution_count": 9,
   "id": "edf84198-35c8-4dc0-9db1-cf75465d8537",
   "metadata": {},
   "outputs": [],
   "source": [
    "learn_inf = load_learner(path/'export.pkl')"
   ]
  },
  {
   "cell_type": "code",
   "execution_count": 11,
   "id": "980c3802-c356-4169-859d-25e8a1d235c8",
   "metadata": {},
   "outputs": [
    {
     "data": {
      "text/html": [
       "\n",
       "<style>\n",
       "    /* Turns off some styling */\n",
       "    progress {\n",
       "        /* gets rid of default border in Firefox and Opera. */\n",
       "        border: none;\n",
       "        /* Needs to be in here for Safari polyfill so background images work as expected. */\n",
       "        background-size: auto;\n",
       "    }\n",
       "    progress:not([value]), progress:not([value])::-webkit-progress-bar {\n",
       "        background: repeating-linear-gradient(45deg, #7e7e7e, #7e7e7e 10px, #5c5c5c 10px, #5c5c5c 20px);\n",
       "    }\n",
       "    .progress-bar-interrupted, .progress-bar-interrupted::-webkit-progress-bar {\n",
       "        background: #F44336;\n",
       "    }\n",
       "</style>\n"
      ],
      "text/plain": [
       "<IPython.core.display.HTML object>"
      ]
     },
     "metadata": {},
     "output_type": "display_data"
    },
    {
     "data": {
      "text/html": [],
      "text/plain": [
       "<IPython.core.display.HTML object>"
      ]
     },
     "metadata": {},
     "output_type": "display_data"
    },
    {
     "data": {
      "text/plain": [
       "('cat', tensor(0), tensor([9.9996e-01, 3.9906e-05, 1.7171e-06]))"
      ]
     },
     "execution_count": 11,
     "metadata": {},
     "output_type": "execute_result"
    }
   ],
   "source": [
    "learn_inf.predict('images/cat.jpg')"
   ]
  },
  {
   "cell_type": "code",
   "execution_count": 12,
   "id": "25dc2b23-27ef-4be1-8fdd-502f2c7594a5",
   "metadata": {},
   "outputs": [
    {
     "data": {
      "text/plain": [
       "['cat', 'dog', 'rabbit']"
      ]
     },
     "execution_count": 12,
     "metadata": {},
     "output_type": "execute_result"
    }
   ],
   "source": [
    "learn_inf.dls.vocab"
   ]
  },
  {
   "cell_type": "code",
   "execution_count": 14,
   "id": "8fc24c72-7923-4eba-8cfd-a437f49476bf",
   "metadata": {},
   "outputs": [
    {
     "data": {
      "application/vnd.jupyter.widget-view+json": {
       "model_id": "37796af4382c44eca6b10be198c38faa",
       "version_major": 2,
       "version_minor": 0
      },
      "text/plain": [
       "FileUpload(value={}, description='Upload')"
      ]
     },
     "metadata": {},
     "output_type": "display_data"
    }
   ],
   "source": [
    "import ipywidgets as widgets\n",
    "btn_upload=widgets.FileUpload()\n",
    "btn_upload"
   ]
  },
  {
   "cell_type": "code",
   "execution_count": 18,
   "id": "8a330413-f898-4e66-8419-d7e9d02d08b0",
   "metadata": {},
   "outputs": [],
   "source": [
    "from types import SimpleNamespace\n",
    "btn_upload=SimpleNamespace(data=['images/cat.jpg'])"
   ]
  },
  {
   "cell_type": "code",
   "execution_count": 22,
   "id": "9c75edd9-1b32-463c-b05f-b55d31096acd",
   "metadata": {},
   "outputs": [],
   "source": [
    "img = PILImage.create(btn_upload.data[-1])"
   ]
  },
  {
   "cell_type": "code",
   "execution_count": 27,
   "id": "063d1561-7333-47f7-a156-77561e532f0c",
   "metadata": {},
   "outputs": [
    {
     "data": {
      "application/vnd.jupyter.widget-view+json": {
       "model_id": "5b57dba295e04b11adbba31cec084ebb",
       "version_major": 2,
       "version_minor": 0
      },
      "text/plain": [
       "Output()"
      ]
     },
     "metadata": {},
     "output_type": "display_data"
    }
   ],
   "source": [
    "out_pl = widgets.Output()\n",
    "out_pl.clear_output()\n",
    "with out_pl:display(img.to_thumb(128,128))\n",
    "out_pl"
   ]
  },
  {
   "cell_type": "code",
   "execution_count": 31,
   "id": "dbaa6c3d-c308-43f1-b4a0-920ca903bd32",
   "metadata": {},
   "outputs": [
    {
     "data": {
      "text/html": [
       "\n",
       "<style>\n",
       "    /* Turns off some styling */\n",
       "    progress {\n",
       "        /* gets rid of default border in Firefox and Opera. */\n",
       "        border: none;\n",
       "        /* Needs to be in here for Safari polyfill so background images work as expected. */\n",
       "        background-size: auto;\n",
       "    }\n",
       "    progress:not([value]), progress:not([value])::-webkit-progress-bar {\n",
       "        background: repeating-linear-gradient(45deg, #7e7e7e, #7e7e7e 10px, #5c5c5c 10px, #5c5c5c 20px);\n",
       "    }\n",
       "    .progress-bar-interrupted, .progress-bar-interrupted::-webkit-progress-bar {\n",
       "        background: #F44336;\n",
       "    }\n",
       "</style>\n"
      ],
      "text/plain": [
       "<IPython.core.display.HTML object>"
      ]
     },
     "metadata": {},
     "output_type": "display_data"
    },
    {
     "data": {
      "text/html": [],
      "text/plain": [
       "<IPython.core.display.HTML object>"
      ]
     },
     "metadata": {},
     "output_type": "display_data"
    }
   ],
   "source": [
    "pred,pred_idx,probs = learn_inf.predict(img)"
   ]
  },
  {
   "cell_type": "code",
   "execution_count": 34,
   "id": "90b7b592-5f3c-426a-b064-62318d85e48d",
   "metadata": {},
   "outputs": [
    {
     "data": {
      "application/vnd.jupyter.widget-view+json": {
       "model_id": "91868b9988e4457aacfc8987c2d4e74d",
       "version_major": 2,
       "version_minor": 0
      },
      "text/plain": [
       "Label(value='Prediction: cat; Probability: 1.0000')"
      ]
     },
     "metadata": {},
     "output_type": "display_data"
    }
   ],
   "source": [
    "lbl_pred=widgets.Label()\n",
    "lbl_pred.value = f'Prediction: {pred}; Probability: {probs[pred_idx]:.04f}'\n",
    "lbl_pred"
   ]
  },
  {
   "cell_type": "code",
   "execution_count": 35,
   "id": "91b2ea21-2b8c-4b33-a02e-218459a8d09a",
   "metadata": {},
   "outputs": [
    {
     "data": {
      "application/vnd.jupyter.widget-view+json": {
       "model_id": "b157130ccffb47868032f67ade55155f",
       "version_major": 2,
       "version_minor": 0
      },
      "text/plain": [
       "Button(description='Classify', style=ButtonStyle())"
      ]
     },
     "metadata": {},
     "output_type": "display_data"
    }
   ],
   "source": [
    "#hide_output\n",
    "btn_run = widgets.Button(description='Classify')\n",
    "btn_run"
   ]
  },
  {
   "cell_type": "code",
   "execution_count": 36,
   "id": "0781b018-8351-40ef-9151-02de13f3ffc6",
   "metadata": {},
   "outputs": [],
   "source": [
    "def on_click_classify(change):\n",
    "    img = PILImage.create(btn_upload.data[-1])\n",
    "    out_pl.clear_output()\n",
    "    with out_pl: display(img.to_thumb(128,128))\n",
    "    pred,pred_idx,probs = learn_inf.predict(img)\n",
    "    lbl_pred.value = f'Prediction: {pred}; Probability: {probs[pred_idx]:.04f}'\n",
    "\n",
    "btn_run.on_click(on_click_classify)"
   ]
  },
  {
   "cell_type": "code",
   "execution_count": 37,
   "id": "b09f71bf-ffe1-43d2-b7c0-6c85187d97f2",
   "metadata": {},
   "outputs": [],
   "source": [
    "#hide\n",
    "#Putting back btn_upload to a widget for next cell\n",
    "btn_upload = widgets.FileUpload()"
   ]
  },
  {
   "cell_type": "code",
   "execution_count": 39,
   "id": "74e31f95-a2b5-42e5-b90b-03d418ecb0ef",
   "metadata": {},
   "outputs": [
    {
     "data": {
      "application/vnd.jupyter.widget-view+json": {
       "model_id": "d502767bbb6d40949a8b13702aad7acf",
       "version_major": 2,
       "version_minor": 0
      },
      "text/plain": [
       "VBox(children=(Label(value='Select your bear!'), FileUpload(value={}, description='Upload'), Button(descriptio…"
      ]
     },
     "metadata": {},
     "output_type": "display_data"
    }
   ],
   "source": [
    "#hide_output\n",
    "from ipywidgets import VBox\n",
    "VBox([widgets.Label('Select your bear!'), \n",
    "      btn_upload, btn_run, out_pl, lbl_pred])"
   ]
  },
  {
   "cell_type": "code",
   "execution_count": 41,
   "id": "3f177d2e-437f-490f-83ac-5c229b0b2a71",
   "metadata": {},
   "outputs": [
    {
     "name": "stdout",
     "output_type": "stream",
     "text": [
      "Collecting voila\n",
      "  Downloading voila-0.5.8-py3-none-any.whl.metadata (9.5 kB)\n",
      "Requirement already satisfied: jupyter-client<9,>=7.4.4 in /Users/divijmathur/miniforge3/lib/python3.12/site-packages (from voila) (8.6.3)\n",
      "Requirement already satisfied: jupyter-core>=4.11.0 in /Users/divijmathur/miniforge3/lib/python3.12/site-packages (from voila) (5.7.2)\n",
      "Requirement already satisfied: jupyter-server<3,>=1.18 in /Users/divijmathur/miniforge3/lib/python3.12/site-packages (from voila) (2.15.0)\n",
      "Requirement already satisfied: jupyterlab-server<3,>=2.3.0 in /Users/divijmathur/miniforge3/lib/python3.12/site-packages (from voila) (2.27.3)\n",
      "Requirement already satisfied: nbclient>=0.4.0 in /Users/divijmathur/miniforge3/lib/python3.12/site-packages (from voila) (0.10.2)\n",
      "Requirement already satisfied: nbconvert<8,>=6.4.5 in /Users/divijmathur/miniforge3/lib/python3.12/site-packages (from voila) (7.16.6)\n",
      "Requirement already satisfied: traitlets<6,>=5.0.3 in /Users/divijmathur/miniforge3/lib/python3.12/site-packages (from voila) (5.14.3)\n",
      "Collecting websockets>=9.0 (from voila)\n",
      "  Downloading websockets-15.0.1-cp312-cp312-macosx_11_0_arm64.whl.metadata (6.8 kB)\n",
      "Requirement already satisfied: python-dateutil>=2.8.2 in /Users/divijmathur/miniforge3/lib/python3.12/site-packages (from jupyter-client<9,>=7.4.4->voila) (2.9.0.post0)\n",
      "Requirement already satisfied: pyzmq>=23.0 in /Users/divijmathur/miniforge3/lib/python3.12/site-packages (from jupyter-client<9,>=7.4.4->voila) (26.3.0)\n",
      "Requirement already satisfied: tornado>=6.2 in /Users/divijmathur/miniforge3/lib/python3.12/site-packages (from jupyter-client<9,>=7.4.4->voila) (6.4.2)\n",
      "Requirement already satisfied: platformdirs>=2.5 in /Users/divijmathur/miniforge3/lib/python3.12/site-packages (from jupyter-core>=4.11.0->voila) (4.3.6)\n",
      "Requirement already satisfied: anyio>=3.1.0 in /Users/divijmathur/miniforge3/lib/python3.12/site-packages (from jupyter-server<3,>=1.18->voila) (4.8.0)\n",
      "Requirement already satisfied: argon2-cffi>=21.1 in /Users/divijmathur/miniforge3/lib/python3.12/site-packages (from jupyter-server<3,>=1.18->voila) (23.1.0)\n",
      "Requirement already satisfied: jinja2>=3.0.3 in /Users/divijmathur/miniforge3/lib/python3.12/site-packages (from jupyter-server<3,>=1.18->voila) (3.1.6)\n",
      "Requirement already satisfied: jupyter-events>=0.11.0 in /Users/divijmathur/miniforge3/lib/python3.12/site-packages (from jupyter-server<3,>=1.18->voila) (0.12.0)\n",
      "Requirement already satisfied: jupyter-server-terminals>=0.4.4 in /Users/divijmathur/miniforge3/lib/python3.12/site-packages (from jupyter-server<3,>=1.18->voila) (0.5.3)\n",
      "Requirement already satisfied: nbformat>=5.3.0 in /Users/divijmathur/miniforge3/lib/python3.12/site-packages (from jupyter-server<3,>=1.18->voila) (5.10.4)\n",
      "Requirement already satisfied: overrides>=5.0 in /Users/divijmathur/miniforge3/lib/python3.12/site-packages (from jupyter-server<3,>=1.18->voila) (7.7.0)\n",
      "Requirement already satisfied: packaging>=22.0 in /Users/divijmathur/miniforge3/lib/python3.12/site-packages (from jupyter-server<3,>=1.18->voila) (24.2)\n",
      "Requirement already satisfied: prometheus-client>=0.9 in /Users/divijmathur/miniforge3/lib/python3.12/site-packages (from jupyter-server<3,>=1.18->voila) (0.21.1)\n",
      "Requirement already satisfied: send2trash>=1.8.2 in /Users/divijmathur/miniforge3/lib/python3.12/site-packages (from jupyter-server<3,>=1.18->voila) (1.8.3)\n",
      "Requirement already satisfied: terminado>=0.8.3 in /Users/divijmathur/miniforge3/lib/python3.12/site-packages (from jupyter-server<3,>=1.18->voila) (0.18.1)\n",
      "Requirement already satisfied: websocket-client>=1.7 in /Users/divijmathur/miniforge3/lib/python3.12/site-packages (from jupyter-server<3,>=1.18->voila) (1.8.0)\n",
      "Requirement already satisfied: babel>=2.10 in /Users/divijmathur/miniforge3/lib/python3.12/site-packages (from jupyterlab-server<3,>=2.3.0->voila) (2.17.0)\n",
      "Requirement already satisfied: json5>=0.9.0 in /Users/divijmathur/miniforge3/lib/python3.12/site-packages (from jupyterlab-server<3,>=2.3.0->voila) (0.10.0)\n",
      "Requirement already satisfied: jsonschema>=4.18.0 in /Users/divijmathur/miniforge3/lib/python3.12/site-packages (from jupyterlab-server<3,>=2.3.0->voila) (4.23.0)\n",
      "Requirement already satisfied: requests>=2.31 in /Users/divijmathur/miniforge3/lib/python3.12/site-packages (from jupyterlab-server<3,>=2.3.0->voila) (2.32.3)\n",
      "Requirement already satisfied: beautifulsoup4 in /Users/divijmathur/miniforge3/lib/python3.12/site-packages (from nbconvert<8,>=6.4.5->voila) (4.13.3)\n",
      "Requirement already satisfied: bleach!=5.0.0 in /Users/divijmathur/miniforge3/lib/python3.12/site-packages (from bleach[css]!=5.0.0->nbconvert<8,>=6.4.5->voila) (6.2.0)\n",
      "Requirement already satisfied: defusedxml in /Users/divijmathur/miniforge3/lib/python3.12/site-packages (from nbconvert<8,>=6.4.5->voila) (0.7.1)\n",
      "Requirement already satisfied: jupyterlab-pygments in /Users/divijmathur/miniforge3/lib/python3.12/site-packages (from nbconvert<8,>=6.4.5->voila) (0.3.0)\n",
      "Requirement already satisfied: markupsafe>=2.0 in /Users/divijmathur/miniforge3/lib/python3.12/site-packages (from nbconvert<8,>=6.4.5->voila) (3.0.2)\n",
      "Requirement already satisfied: mistune<4,>=2.0.3 in /Users/divijmathur/miniforge3/lib/python3.12/site-packages (from nbconvert<8,>=6.4.5->voila) (3.1.2)\n",
      "Requirement already satisfied: pandocfilters>=1.4.1 in /Users/divijmathur/miniforge3/lib/python3.12/site-packages (from nbconvert<8,>=6.4.5->voila) (1.5.0)\n",
      "Requirement already satisfied: pygments>=2.4.1 in /Users/divijmathur/miniforge3/lib/python3.12/site-packages (from nbconvert<8,>=6.4.5->voila) (2.19.1)\n",
      "Requirement already satisfied: idna>=2.8 in /Users/divijmathur/miniforge3/lib/python3.12/site-packages (from anyio>=3.1.0->jupyter-server<3,>=1.18->voila) (3.10)\n",
      "Requirement already satisfied: sniffio>=1.1 in /Users/divijmathur/miniforge3/lib/python3.12/site-packages (from anyio>=3.1.0->jupyter-server<3,>=1.18->voila) (1.3.1)\n",
      "Requirement already satisfied: typing_extensions>=4.5 in /Users/divijmathur/miniforge3/lib/python3.12/site-packages (from anyio>=3.1.0->jupyter-server<3,>=1.18->voila) (4.12.2)\n",
      "Requirement already satisfied: argon2-cffi-bindings in /Users/divijmathur/miniforge3/lib/python3.12/site-packages (from argon2-cffi>=21.1->jupyter-server<3,>=1.18->voila) (21.2.0)\n",
      "Requirement already satisfied: webencodings in /Users/divijmathur/miniforge3/lib/python3.12/site-packages (from bleach!=5.0.0->bleach[css]!=5.0.0->nbconvert<8,>=6.4.5->voila) (0.5.1)\n",
      "Requirement already satisfied: tinycss2<1.5,>=1.1.0 in /Users/divijmathur/miniforge3/lib/python3.12/site-packages (from bleach[css]!=5.0.0->nbconvert<8,>=6.4.5->voila) (1.4.0)\n",
      "Requirement already satisfied: attrs>=22.2.0 in /Users/divijmathur/miniforge3/lib/python3.12/site-packages (from jsonschema>=4.18.0->jupyterlab-server<3,>=2.3.0->voila) (25.3.0)\n",
      "Requirement already satisfied: jsonschema-specifications>=2023.03.6 in /Users/divijmathur/miniforge3/lib/python3.12/site-packages (from jsonschema>=4.18.0->jupyterlab-server<3,>=2.3.0->voila) (2024.10.1)\n",
      "Requirement already satisfied: referencing>=0.28.4 in /Users/divijmathur/miniforge3/lib/python3.12/site-packages (from jsonschema>=4.18.0->jupyterlab-server<3,>=2.3.0->voila) (0.36.2)\n",
      "Requirement already satisfied: rpds-py>=0.7.1 in /Users/divijmathur/miniforge3/lib/python3.12/site-packages (from jsonschema>=4.18.0->jupyterlab-server<3,>=2.3.0->voila) (0.23.1)\n",
      "Requirement already satisfied: python-json-logger>=2.0.4 in /Users/divijmathur/miniforge3/lib/python3.12/site-packages (from jupyter-events>=0.11.0->jupyter-server<3,>=1.18->voila) (2.0.7)\n",
      "Requirement already satisfied: pyyaml>=5.3 in /Users/divijmathur/miniforge3/lib/python3.12/site-packages (from jupyter-events>=0.11.0->jupyter-server<3,>=1.18->voila) (6.0.2)\n",
      "Requirement already satisfied: rfc3339-validator in /Users/divijmathur/miniforge3/lib/python3.12/site-packages (from jupyter-events>=0.11.0->jupyter-server<3,>=1.18->voila) (0.1.4)\n",
      "Requirement already satisfied: rfc3986-validator>=0.1.1 in /Users/divijmathur/miniforge3/lib/python3.12/site-packages (from jupyter-events>=0.11.0->jupyter-server<3,>=1.18->voila) (0.1.1)\n",
      "Requirement already satisfied: fastjsonschema>=2.15 in /Users/divijmathur/miniforge3/lib/python3.12/site-packages (from nbformat>=5.3.0->jupyter-server<3,>=1.18->voila) (2.21.1)\n",
      "Requirement already satisfied: six>=1.5 in /Users/divijmathur/miniforge3/lib/python3.12/site-packages (from python-dateutil>=2.8.2->jupyter-client<9,>=7.4.4->voila) (1.17.0)\n",
      "Requirement already satisfied: charset_normalizer<4,>=2 in /Users/divijmathur/miniforge3/lib/python3.12/site-packages (from requests>=2.31->jupyterlab-server<3,>=2.3.0->voila) (3.4.1)\n",
      "Requirement already satisfied: urllib3<3,>=1.21.1 in /Users/divijmathur/miniforge3/lib/python3.12/site-packages (from requests>=2.31->jupyterlab-server<3,>=2.3.0->voila) (2.3.0)\n",
      "Requirement already satisfied: certifi>=2017.4.17 in /Users/divijmathur/miniforge3/lib/python3.12/site-packages (from requests>=2.31->jupyterlab-server<3,>=2.3.0->voila) (2025.1.31)\n",
      "Requirement already satisfied: ptyprocess in /Users/divijmathur/miniforge3/lib/python3.12/site-packages (from terminado>=0.8.3->jupyter-server<3,>=1.18->voila) (0.7.0)\n",
      "Requirement already satisfied: soupsieve>1.2 in /Users/divijmathur/miniforge3/lib/python3.12/site-packages (from beautifulsoup4->nbconvert<8,>=6.4.5->voila) (2.5)\n",
      "Requirement already satisfied: fqdn in /Users/divijmathur/miniforge3/lib/python3.12/site-packages (from jsonschema[format-nongpl]>=4.18.0->jupyter-events>=0.11.0->jupyter-server<3,>=1.18->voila) (1.5.1)\n",
      "Requirement already satisfied: isoduration in /Users/divijmathur/miniforge3/lib/python3.12/site-packages (from jsonschema[format-nongpl]>=4.18.0->jupyter-events>=0.11.0->jupyter-server<3,>=1.18->voila) (20.11.0)\n",
      "Requirement already satisfied: jsonpointer>1.13 in /Users/divijmathur/miniforge3/lib/python3.12/site-packages (from jsonschema[format-nongpl]>=4.18.0->jupyter-events>=0.11.0->jupyter-server<3,>=1.18->voila) (3.0.0)\n",
      "Requirement already satisfied: uri-template in /Users/divijmathur/miniforge3/lib/python3.12/site-packages (from jsonschema[format-nongpl]>=4.18.0->jupyter-events>=0.11.0->jupyter-server<3,>=1.18->voila) (1.3.0)\n",
      "Requirement already satisfied: webcolors>=24.6.0 in /Users/divijmathur/miniforge3/lib/python3.12/site-packages (from jsonschema[format-nongpl]>=4.18.0->jupyter-events>=0.11.0->jupyter-server<3,>=1.18->voila) (24.11.1)\n",
      "Requirement already satisfied: cffi>=1.0.1 in /Users/divijmathur/miniforge3/lib/python3.12/site-packages (from argon2-cffi-bindings->argon2-cffi>=21.1->jupyter-server<3,>=1.18->voila) (1.17.1)\n",
      "Requirement already satisfied: pycparser in /Users/divijmathur/miniforge3/lib/python3.12/site-packages (from cffi>=1.0.1->argon2-cffi-bindings->argon2-cffi>=21.1->jupyter-server<3,>=1.18->voila) (2.22)\n",
      "Requirement already satisfied: arrow>=0.15.0 in /Users/divijmathur/miniforge3/lib/python3.12/site-packages (from isoduration->jsonschema[format-nongpl]>=4.18.0->jupyter-events>=0.11.0->jupyter-server<3,>=1.18->voila) (1.3.0)\n",
      "Requirement already satisfied: types-python-dateutil>=2.8.10 in /Users/divijmathur/miniforge3/lib/python3.12/site-packages (from arrow>=0.15.0->isoduration->jsonschema[format-nongpl]>=4.18.0->jupyter-events>=0.11.0->jupyter-server<3,>=1.18->voila) (2.9.0.20241206)\n",
      "Downloading voila-0.5.8-py3-none-any.whl (4.5 MB)\n",
      "\u001b[2K   \u001b[90m━━━━━━━━━━━━━━━━━━━━━━━━━━━━━━━━━━━━━━━━\u001b[0m \u001b[32m4.5/4.5 MB\u001b[0m \u001b[31m44.1 MB/s\u001b[0m eta \u001b[36m0:00:00\u001b[0m\n",
      "\u001b[?25hDownloading websockets-15.0.1-cp312-cp312-macosx_11_0_arm64.whl (173 kB)\n",
      "Installing collected packages: websockets, voila\n",
      "Successfully installed voila-0.5.8 websockets-15.0.1\n",
      "usage: jupyter [-h] [--version] [--config-dir] [--data-dir] [--runtime-dir]\n",
      "               [--paths] [--json] [--debug]\n",
      "               [subcommand]\n",
      "\n",
      "Jupyter: Interactive Computing\n",
      "\n",
      "positional arguments:\n",
      "  subcommand     the subcommand to launch\n",
      "\n",
      "options:\n",
      "  -h, --help     show this help message and exit\n",
      "  --version      show the versions of core jupyter packages and exit\n",
      "  --config-dir   show Jupyter config dir\n",
      "  --data-dir     show Jupyter data dir\n",
      "  --runtime-dir  show Jupyter runtime dir\n",
      "  --paths        show all Jupyter paths. Add --json for machine-readable\n",
      "                 format.\n",
      "  --json         output paths as machine-readable json\n",
      "  --debug        output debug information about paths\n",
      "\n",
      "Available subcommands: console dejavu events execute kernel kernelspec lab\n",
      "labextension labhub migrate nbconvert notebook run server troubleshoot trust\n",
      "\n",
      "Jupyter command `jupyter-serverextension` not found.\n"
     ]
    }
   ],
   "source": [
    "#hide\n",
    "!pip install voila\n",
    "!jupyter serverextension enable --sys-prefix voila "
   ]
  },
  {
   "cell_type": "code",
   "execution_count": null,
   "id": "2810f187-5b9c-4e3f-b54d-393837d457c5",
   "metadata": {},
   "outputs": [],
   "source": []
  }
 ],
 "metadata": {
  "kernelspec": {
   "display_name": "Python 3 (ipykernel)",
   "language": "python",
   "name": "python3"
  },
  "language_info": {
   "codemirror_mode": {
    "name": "ipython",
    "version": 3
   },
   "file_extension": ".py",
   "mimetype": "text/x-python",
   "name": "python",
   "nbconvert_exporter": "python",
   "pygments_lexer": "ipython3",
   "version": "3.12.9"
  }
 },
 "nbformat": 4,
 "nbformat_minor": 5
}
